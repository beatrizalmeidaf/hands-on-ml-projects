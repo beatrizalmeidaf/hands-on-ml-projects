{
 "cells": [
  {
   "cell_type": "markdown",
   "id": "f6ce3d5f-3b7d-4b19-953c-acdbac60205a",
   "metadata": {},
   "source": [
    "## Exercícios propostos no capítulo"
   ]
  },
  {
   "cell_type": "markdown",
   "id": "0debad08-c144-4efd-a06b-86faccad1688",
   "metadata": {},
   "source": [
    "#### 1. Como você definiria o aprendizado de máquina?\n",
    "\n",
    "Aprendizado de máquina é uma área da ciência da computação que permite aos computadores aprenderem e tomarem decisões de forma autônoma, sem serem explicitamente programados para cada tarefa. Isso é possível ao utilizar grandes conjuntos de dados e algoritmos para identificar padrões e melhorar o desempenho com base na experiência."
   ]
  },
  {
   "cell_type": "markdown",
   "id": "b28ae992-9917-4751-b869-c65f20187a04",
   "metadata": {},
   "source": [
    "---"
   ]
  },
  {
   "cell_type": "markdown",
   "id": "98808e23-d828-4e7b-8d3a-7a1f43931eac",
   "metadata": {},
   "source": [
    "#### 2. Aponte quatro tipos de problemas que se destacam na área\n",
    "\n",
    "- Problemas de Classificação\n",
    "- Problemas de Regressão\n",
    "- Problemas de Clusterização\n",
    "- Problemas de Reforço"
   ]
  },
  {
   "cell_type": "markdown",
   "id": "993d6f71-964f-4064-a91f-b175d350f8be",
   "metadata": {},
   "source": [
    "---"
   ]
  },
  {
   "cell_type": "markdown",
   "id": "25eea278-accb-482b-9659-08b2e9b35eb1",
   "metadata": {},
   "source": [
    "#### 3. O que é um conjunto de treinamento rotulado\n",
    "\n",
    "Um conjunto de treinamento rotulado é um conjunto de dados utilizado para treinar um modelo de aprendizado de máquina, onde cada entrada está associada a uma solução ou resposta correta (rótulo). Esses rótulos servem como referência para que o modelo aprenda a identificar padrões e fazer previsões."
   ]
  },
  {
   "cell_type": "markdown",
   "id": "5465436f-815a-4732-8c8b-bf545a7911ba",
   "metadata": {},
   "source": [
    "---"
   ]
  },
  {
   "cell_type": "markdown",
   "id": "cde413e4-0cb1-4b2a-8c74-24129c4d7f71",
   "metadata": {},
   "source": [
    "#### 4. Quais são as duas tarefas supervisionadas mais comuns?\n",
    "\n",
    "Regressão e Classificação"
   ]
  },
  {
   "cell_type": "markdown",
   "id": "58044ae8-609d-4f11-88ac-eb54b8fd2c58",
   "metadata": {},
   "source": [
    "#### 5. Cite quatro tarefas comuns não supervisionadas\n",
    "\n",
    "- Clusterização\n",
    "- Detecção de anomalias\n",
    "- Visualização e redução da dimensionalidade (reduzir features)\n",
    "- Aprendizado de regras por associação (descobrir padrões e relacionamentos em grandes conjuntos de dados)"
   ]
  },
  {
   "cell_type": "markdown",
   "id": "d46566e5-5574-48c9-91d9-6650073604b6",
   "metadata": {},
   "source": [
    "---"
   ]
  },
  {
   "cell_type": "markdown",
   "id": "68e15863-6e41-485a-b327-bda54416ae4c",
   "metadata": {},
   "source": [
    "#### 6. O que é um sistema de Aprendizado Online\n",
    "\n",
    "Um sistema de Aprendizado Online é um modelo de aprendizado de máquina que aprende de forma incremental, ou seja, processa os dados à medida que eles se tornam disponíveis, sem a necessidade de treinar o modelo inteiro novamente com todos os dados anteriores. Esse tipo de sistema é ideal para cenários em que os dados chegam em fluxo contínuo ou precisam ser atualizados em tempo real, como recomendações de conteúdo ou detecção de fraudes."
   ]
  },
  {
   "cell_type": "markdown",
   "id": "ba753412-5b80-4ed7-b234-03aa541e39c7",
   "metadata": {},
   "source": [
    "---"
   ]
  },
  {
   "cell_type": "markdown",
   "id": "44183d68-514e-49e5-bbc0-39013f9794ca",
   "metadata": {},
   "source": [
    "#### 7. Qual a diferença entre um parâmetro de modelo e hiperparâmetro do algoritmo de aprendizado?\n",
    "\n",
    "Parâmetros de modelo são ajustados automaticamente durante o processo de treinamento pelo algoritmo de aprendizado, como os coeficientes em uma regressão linear, os pesos em uma rede neural ou a fronteira de decisão em um KNN.\n",
    "\n",
    "Hiperparâmetros são definidos antes do treinamento e influenciam como o modelo será treinado. Eles não são aprendidos pelo algoritmo, mas escolhidos manualmente ou por métodos automáticos de busca. Exemplos incluem a taxa de aprendizado em redes neurais, o número de vizinhos no KNN e a profundidade máxima de uma árvore de decisão."
   ]
  },
  {
   "cell_type": "markdown",
   "id": "6947003a-6cca-44a8-ac5d-45df8adcec86",
   "metadata": {},
   "source": [
    "---"
   ]
  },
  {
   "cell_type": "markdown",
   "id": "1e415eb4-7d5c-4b44-a364-3eb0beef7be3",
   "metadata": {},
   "source": [
    "#### 8. O que é um conjunto de teste e para que serve?\n",
    "\n",
    "O conjunto de testes é usado para estimar o erro de generalização que um modelo cometerá em instâncias novas antes que o modelo seja disponibilizado em produção\n"
   ]
  },
  {
   "cell_type": "markdown",
   "id": "1a5858ca-6241-41bf-9c76-597abb8a7fc7",
   "metadata": {},
   "source": [
    "---"
   ]
  },
  {
   "cell_type": "markdown",
   "id": "1ad33aea-5d7f-4086-83f5-068b9a6877a9",
   "metadata": {},
   "source": [
    "#### 9. Para que serve um conjunto de validação?\n",
    "\n",
    "Um conjunto de validação serve para comparar modelos possibilitando selecionar o melhor modelo e ajustar hiperparâmetros."
   ]
  },
  {
   "cell_type": "markdown",
   "id": "322f5933-91dc-49a5-a1ca-28e989a337c9",
   "metadata": {},
   "source": [
    "---"
   ]
  }
 ],
 "metadata": {
  "kernelspec": {
   "display_name": "Python 3 (ipykernel)",
   "language": "python",
   "name": "python3"
  },
  "language_info": {
   "codemirror_mode": {
    "name": "ipython",
    "version": 3
   },
   "file_extension": ".py",
   "mimetype": "text/x-python",
   "name": "python",
   "nbconvert_exporter": "python",
   "pygments_lexer": "ipython3",
   "version": "3.12.4"
  }
 },
 "nbformat": 4,
 "nbformat_minor": 5
}

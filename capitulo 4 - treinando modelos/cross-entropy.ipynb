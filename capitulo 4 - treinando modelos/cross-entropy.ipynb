{
 "cells": [
  {
   "cell_type": "markdown",
   "metadata": {},
   "source": [
    "# Cross Entropy\n",
    "\n",
    "Função de erro muito usada para classificação (principalmente em redes neurais e regressão logística)\n",
    "\n",
    "Ela mede quão ruim está a predição comparada à realidade.\n",
    "- Se o modelo prevê algo muito errado, a Cross-Entropy dá um valor alto.\n",
    "- Se prevê certo, o erro é pequeno."
   ]
  },
  {
   "attachments": {
    "image.png": {
     "image/png": "[encoded data removed]"
    }
   },
   "cell_type": "markdown",
   "metadata": {},
   "source": [
    "![image.png](attachment:image.png)"
   ]
  },
  {
   "cell_type": "code",
   "execution_count": 1,
   "metadata": {},
   "outputs": [],
   "source": [
    "import numpy as np"
   ]
  },
  {
   "cell_type": "code",
   "execution_count": 2,
   "metadata": {},
   "outputs": [],
   "source": [
    "def cross_entropy_loss(y_true, y_pred):\n",
    "    epsilon = 1e-15  # pequeno valor para evitar log(0)\n",
    "    y_pred = np.clip(y_pred, epsilon, 1 - epsilon)  # garante que os valores fiquem entre (0,1)\n",
    "    \n",
    "    loss = -np.mean(y_true * np.log(y_pred) + (1 - y_true) * np.log(1 - y_pred))\n",
    "    return loss"
   ]
  },
  {
   "cell_type": "code",
   "execution_count": 3,
   "metadata": {},
   "outputs": [],
   "source": [
    "y_true = np.array([1, 0, 1, 1, 0])  # rótulos reais\n",
    "y_pred_good = np.array([0.9, 0.1, 0.8, 0.7, 0.2])  # boas predições\n",
    "y_pred_bad = np.array([0.2, 0.8, 0.3, 0.1, 0.9])  # más predições"
   ]
  },
  {
   "cell_type": "code",
   "execution_count": 4,
   "metadata": {},
   "outputs": [
    {
     "name": "stdout",
     "output_type": "stream",
     "text": [
      "Cross-Entropy para boas predições: 0.2027\n",
      "Cross-Entropy para más predições: 1.8056\n"
     ]
    }
   ],
   "source": [
    "loss_good = cross_entropy_loss(y_true, y_pred_good)\n",
    "loss_bad = cross_entropy_loss(y_true, y_pred_bad)\n",
    "\n",
    "print(f\"Cross-Entropy para boas predições: {loss_good:.4f}\")\n",
    "print(f\"Cross-Entropy para más predições: {loss_bad:.4f}\")"
   ]
  }
 ],
 "metadata": {
  "kernelspec": {
   "display_name": "redes-neurais",
   "language": "python",
   "name": "python3"
  },
  "language_info": {
   "codemirror_mode": {
    "name": "ipython",
    "version": 3
   },
   "file_extension": ".py",
   "mimetype": "text/x-python",
   "name": "python",
   "nbconvert_exporter": "python",
   "pygments_lexer": "ipython3",
   "version": "3.12.8"
  }
 },
 "nbformat": 4,
 "nbformat_minor": 2
}

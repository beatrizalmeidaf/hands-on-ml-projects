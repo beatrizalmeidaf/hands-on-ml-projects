{
 "cells": [
  {
   "cell_type": "markdown",
   "metadata": {},
   "source": [
    "# Regularizadores"
   ]
  },
  {
   "cell_type": "markdown",
   "metadata": {},
   "source": [
    "### 📌 Quando usar cada modelo?\n",
    "\n",
    "Ridge: Quando todos os coeficientes são importantes, mas devem ser reduzidos.\n",
    "\n",
    "Lasso: Quando você quer seleção de variáveis (zera coeficientes irrelevantes).\n",
    "\n",
    "Elastic Net: Quando há muitos atributos correlacionados e você quer um equilíbrio entre Ridge e Lasso."
   ]
  },
  {
   "cell_type": "code",
   "execution_count": 1,
   "metadata": {},
   "outputs": [],
   "source": [
    "import numpy as np\n",
    "import matplotlib.pyplot as plt\n",
    "\n",
    "from sklearn.linear_model import Ridge, Lasso, ElasticNet\n",
    "from sklearn.model_selection import train_test_split\n",
    "from sklearn.metrics import mean_squared_error\n",
    "from sklearn.preprocessing import StandardScaler"
   ]
  },
  {
   "cell_type": "code",
   "execution_count": 2,
   "metadata": {},
   "outputs": [],
   "source": [
    "np.random.seed(42)\n",
    "\n",
    "m = 100\n",
    "X = 2 * np.random.rand(m, 1)  \n",
    "y = 4 + 3 * X + np.random.randn(m, 1)  "
   ]
  },
  {
   "cell_type": "code",
   "execution_count": 5,
   "metadata": {},
   "outputs": [
    {
     "data": {
      "text/plain": [
       "(array([[0.74908024],\n",
       "        [1.90142861],\n",
       "        [1.46398788],\n",
       "        [1.19731697],\n",
       "        [0.31203728],\n",
       "        [0.31198904],\n",
       "        [0.11616722],\n",
       "        [1.73235229],\n",
       "        [1.20223002],\n",
       "        [1.41614516]]),\n",
       " array([[6.33428778],\n",
       "        [9.40527849],\n",
       "        [8.48372443],\n",
       "        [5.60438199],\n",
       "        [4.71643995],\n",
       "        [5.29307969],\n",
       "        [5.82639572],\n",
       "        [8.67878666],\n",
       "        [6.79819647],\n",
       "        [7.74667842]]))"
      ]
     },
     "execution_count": 5,
     "metadata": {},
     "output_type": "execute_result"
    }
   ],
   "source": [
    "X[:10], y[:10]"
   ]
  },
  {
   "cell_type": "code",
   "execution_count": 3,
   "metadata": {},
   "outputs": [],
   "source": [
    "X_train, X_test, y_train, y_test = train_test_split(X, y, test_size=0.2, random_state=42)"
   ]
  },
  {
   "cell_type": "markdown",
   "metadata": {},
   "source": [
    "## Padronizando Dados \n",
    "\n",
    "Etapa importante para a regualrização"
   ]
  },
  {
   "cell_type": "code",
   "execution_count": 6,
   "metadata": {},
   "outputs": [],
   "source": [
    "scaler = StandardScaler()\n",
    "\n",
    "X_train_scaled = scaler.fit_transform(X_train)\n",
    "X_test_scaled = scaler.transform(X_test)"
   ]
  },
  {
   "cell_type": "code",
   "execution_count": 7,
   "metadata": {},
   "outputs": [
    {
     "data": {
      "text/plain": [
       "(array([[ 1.55811593],\n",
       "        [ 1.43909981],\n",
       "        [-0.92168212],\n",
       "        [-1.48921717],\n",
       "        [ 1.7813481 ],\n",
       "        [-0.97754544],\n",
       "        [-1.18825698],\n",
       "        [ 0.18759605],\n",
       "        [ 0.82399159],\n",
       "        [-1.58833488]]),\n",
       " array([[-1.3890576 ],\n",
       "        [ 1.46524586],\n",
       "        [ 1.04433772],\n",
       "        [ 0.66758691],\n",
       "        [-0.71873094],\n",
       "        [-0.09595758],\n",
       "        [-0.60416768],\n",
       "        [ 1.35631637],\n",
       "        [-1.53661565],\n",
       "        [-0.32124882]]))"
      ]
     },
     "execution_count": 7,
     "metadata": {},
     "output_type": "execute_result"
    }
   ],
   "source": [
    "X_train_scaled[:10], X_test_scaled[:10]"
   ]
  },
  {
   "cell_type": "markdown",
   "metadata": {},
   "source": [
    "## Ridge Regression"
   ]
  },
  {
   "cell_type": "code",
   "execution_count": 8,
   "metadata": {},
   "outputs": [],
   "source": [
    "ridge_reg = Ridge(alpha=1)  # alpha é o parâmetro de regularização\n",
    "\n",
    "ridge_reg.fit(X_train_scaled, y_train)\n",
    "y_pred_ridge = ridge_reg.predict(X_test_scaled)"
   ]
  },
  {
   "cell_type": "markdown",
   "metadata": {},
   "source": [
    "## Lasso Regression"
   ]
  },
  {
   "cell_type": "code",
   "execution_count": 9,
   "metadata": {},
   "outputs": [],
   "source": [
    "lasso_reg = Lasso(alpha=0.1)  # alpha maior = mais coeficientes zerados\n",
    "\n",
    "lasso_reg.fit(X_train_scaled, y_train)\n",
    "y_pred_lasso = lasso_reg.predict(X_test_scaled)"
   ]
  },
  {
   "cell_type": "markdown",
   "metadata": {},
   "source": [
    "## Elastic Net"
   ]
  },
  {
   "cell_type": "code",
   "execution_count": 10,
   "metadata": {},
   "outputs": [],
   "source": [
    "elastic_net = ElasticNet(alpha=0.1, l1_ratio=0.5)  # L1_ratio = 0.5 mistura Ridge e Lasso\n",
    "\n",
    "elastic_net.fit(X_train_scaled, y_train)\n",
    "y_pred_elastic = elastic_net.predict(X_test_scaled)"
   ]
  },
  {
   "cell_type": "markdown",
   "metadata": {},
   "source": [
    "## Avaliação Modelos"
   ]
  },
  {
   "cell_type": "code",
   "execution_count": 11,
   "metadata": {},
   "outputs": [
    {
     "name": "stdout",
     "output_type": "stream",
     "text": [
      "Ridge Regression MSE: 0.6507\n",
      "Lasso Regression MSE: 0.6481\n",
      "Elastic Net MSE: 0.6504\n"
     ]
    }
   ],
   "source": [
    "mse_ridge = mean_squared_error(y_test, y_pred_ridge)\n",
    "mse_lasso = mean_squared_error(y_test, y_pred_lasso)\n",
    "mse_elastic = mean_squared_error(y_test, y_pred_elastic)\n",
    "\n",
    "print(f\"Ridge Regression MSE: {mse_ridge:.4f}\")\n",
    "print(f\"Lasso Regression MSE: {mse_lasso:.4f}\")\n",
    "print(f\"Elastic Net MSE: {mse_elastic:.4f}\")"
   ]
  },
  {
   "cell_type": "code",
   "execution_count": 12,
   "metadata": {},
   "outputs": [
    {
     "data": {
      "image/png": "[encoded data removed]",
      "text/plain": [
       "<Figure size 1200x600 with 1 Axes>"
      ]
     },
     "metadata": {},
     "output_type": "display_data"
    }
   ],
   "source": [
    "plt.figure(figsize=(12, 6))\n",
    "\n",
    "plt.scatter(X_test, y_test, color=\"black\", label=\"True values\")\n",
    "plt.plot(X_test, y_pred_ridge, \"r-\", label=\"Ridge\")\n",
    "plt.plot(X_test, y_pred_lasso, \"g--\", label=\"Lasso\")\n",
    "plt.plot(X_test, y_pred_elastic, \"b-.\", label=\"Elastic Net\")\n",
    "\n",
    "plt.legend()\n",
    "plt.xlabel(\"X\")\n",
    "plt.ylabel(\"y\")\n",
    "plt.title(\"Regularized Linear Models\")\n",
    "plt.show()"
   ]
  }
 ],
 "metadata": {
  "kernelspec": {
   "display_name": "redes-neurais",
   "language": "python",
   "name": "python3"
  },
  "language_info": {
   "codemirror_mode": {
    "name": "ipython",
    "version": 3
   },
   "file_extension": ".py",
   "mimetype": "text/x-python",
   "name": "python",
   "nbconvert_exporter": "python",
   "pygments_lexer": "ipython3",
   "version": "3.12.8"
  }
 },
 "nbformat": 4,
 "nbformat_minor": 2
}

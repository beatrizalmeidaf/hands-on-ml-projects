{
 "cells": [
  {
   "cell_type": "code",
   "execution_count": 1,
   "metadata": {},
   "outputs": [],
   "source": [
    "import pandas as pd\n",
    "import numpy as np\n",
    "from sklearn.model_selection import KFold, cross_val_score\n",
    "from sklearn import linear_model, tree, ensemble"
   ]
  },
  {
   "cell_type": "markdown",
   "metadata": {},
   "source": [
    "## Carregar Conjunto de Dados"
   ]
  },
  {
   "cell_type": "code",
   "execution_count": 2,
   "metadata": {},
   "outputs": [
    {
     "name": "stdout",
     "output_type": "stream",
     "text": [
      "Formato dos dados de entrada: (1460, 34) e formato da variável alvo: (1460,)\n"
     ]
    }
   ],
   "source": [
    "dados_treino = pd.read_csv('train.csv')\n",
    "\n",
    "# Remover linhas com valores nulos na variável alvo\n",
    "dados_treino.dropna(axis=0, subset=['SalePrice'], inplace=True)\n",
    "y = dados_treino.SalePrice  # Variável alvo\n",
    "dados_treino.drop(['SalePrice'], axis=1, inplace=True)  # Remover variável alvo dos dados de treino\n",
    "\n",
    "# Remover colunas com valores nulos\n",
    "dados_treino.drop(['LotFrontage', 'GarageYrBlt', 'MasVnrArea'], axis=1, inplace=True)\n",
    "\n",
    "# Selecionar apenas colunas numéricas\n",
    "colunas_numericas = [coluna for coluna in dados_treino.columns if dados_treino[coluna].dtype in ['int64', 'float64']]\n",
    "X = dados_treino[colunas_numericas].copy()\n",
    "\n",
    "print(f\"Formato dos dados de entrada: {X.shape} e formato da variável alvo: {y.shape}\")"
   ]
  },
  {
   "cell_type": "markdown",
   "metadata": {},
   "source": [
    "## Análise dos Dados\n",
    "O conjunto de dados final contém 34 características e 1460 exemplos de treino. Nosso objetivo é prever o preço de venda das casas com base nos dados disponíveis."
   ]
  },
  {
   "cell_type": "markdown",
   "metadata": {},
   "source": [
    "## Avaliação do Modelo Usando KFold\n",
    "Vamos usar a função **cross_val_score()** para avaliar o modelo por validação cruzada. Utilizaremos três modelos diferentes para análise. A média dos resultados será utilizada como desempenho final do modelo, baseado no erro quadrático médio (RMSE)."
   ]
  },
  {
   "cell_type": "code",
   "execution_count": 3,
   "metadata": {},
   "outputs": [
    {
     "name": "stdout",
     "output_type": "stream",
     "text": [
      "Fold:1, Conjunto de treino: 1168, Conjunto de teste:292\n",
      "Fold:2, Conjunto de treino: 1168, Conjunto de teste:292\n",
      "Fold:3, Conjunto de treino: 1168, Conjunto de teste:292\n",
      "Fold:4, Conjunto de treino: 1168, Conjunto de teste:292\n",
      "Fold:5, Conjunto de treino: 1168, Conjunto de teste:292\n"
     ]
    }
   ],
   "source": [
    "kf = KFold(n_splits=5, shuffle=True, random_state=42)\n",
    "contador = 1\n",
    "for indice_treino, indice_teste in kf.split(X, y):\n",
    "    print(f'Fold:{contador}, Conjunto de treino: {len(indice_treino)}, Conjunto de teste:{len(indice_teste)}')\n",
    "    contador += 1"
   ]
  },
  {
   "cell_type": "code",
   "execution_count": 4,
   "metadata": {},
   "outputs": [],
   "source": [
    "def calcular_rmse(pontuacao):\n",
    "    rmse = np.sqrt(-pontuacao)\n",
    "    print(f'RMSE = {rmse:.2f}')"
   ]
  },
  {
   "cell_type": "markdown",
   "metadata": {},
   "source": [
    "### Usando Regressão Linear"
   ]
  },
  {
   "cell_type": "code",
   "execution_count": 5,
   "metadata": {},
   "outputs": [
    {
     "name": "stdout",
     "output_type": "stream",
     "text": [
      "Pontuações para cada fold: [-1.39334669e+09 -1.32533433e+09 -3.39493937e+09 -9.31045536e+08\n",
      " -7.16620849e+08]\n",
      "RMSE = 39398.70\n"
     ]
    }
   ],
   "source": [
    "pontuacoes = cross_val_score(linear_model.LinearRegression(), X, y, cv=kf, scoring=\"neg_mean_squared_error\")\n",
    "print(f'Pontuações para cada fold: {pontuacoes}')\n",
    "calcular_rmse(pontuacoes.mean())"
   ]
  },
  {
   "cell_type": "markdown",
   "metadata": {},
   "source": [
    "### Usando Regressor de Árvore de Decisão"
   ]
  },
  {
   "cell_type": "code",
   "execution_count": 6,
   "metadata": {},
   "outputs": [
    {
     "name": "stdout",
     "output_type": "stream",
     "text": [
      "Pontuações para cada fold: [-2.28396934e+09 -1.70193863e+09 -2.50505513e+09 -1.48547479e+09\n",
      " -1.66691378e+09]\n",
      "RMSE = 43916.63\n"
     ]
    }
   ],
   "source": [
    "pontuacoes = cross_val_score(tree.DecisionTreeRegressor(random_state=42), X, y, cv=kf, scoring=\"neg_mean_squared_error\")\n",
    "print(f'Pontuações para cada fold: {pontuacoes}')\n",
    "calcular_rmse(pontuacoes.mean())"
   ]
  },
  {
   "cell_type": "markdown",
   "metadata": {},
   "source": [
    "### Usando Regressor de Floresta Aleatória"
   ]
  },
  {
   "cell_type": "code",
   "execution_count": 7,
   "metadata": {},
   "outputs": [
    {
     "name": "stdout",
     "output_type": "stream",
     "text": [
      "Pontuações para cada fold: [-8.58316418e+08 -6.13821216e+08 -2.06121160e+09 -7.97273029e+08\n",
      " -5.68429309e+08]\n",
      "RMSE = 31301.92\n"
     ]
    }
   ],
   "source": [
    "pontuacoes = cross_val_score(ensemble.RandomForestRegressor(random_state=42), X, y, cv=kf, scoring=\"neg_mean_squared_error\")\n",
    "print(f'Pontuações para cada fold: {pontuacoes}')\n",
    "calcular_rmse(pontuacoes.mean())"
   ]
  }
 ],
 "metadata": {
  "kernelspec": {
   "display_name": "Python 3",
   "language": "python",
   "name": "python3"
  },
  "language_info": {
   "codemirror_mode": {
    "name": "ipython",
    "version": 3
   },
   "file_extension": ".py",
   "mimetype": "text/x-python",
   "name": "python",
   "nbconvert_exporter": "python",
   "pygments_lexer": "ipython3",
   "version": "3.9.7"
  }
 },
 "nbformat": 4,
 "nbformat_minor": 5
}
